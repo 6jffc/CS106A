{
  "nbformat": 4,
  "nbformat_minor": 0,
  "metadata": {
    "colab": {
      "provenance": [],
      "gpuType": "T4",
      "authorship_tag": "ABX9TyMb1WtE8pZuiwLTK3Ew3ZnS",
      "include_colab_link": true
    },
    "kernelspec": {
      "name": "python3",
      "display_name": "Python 3"
    },
    "language_info": {
      "name": "python"
    },
    "accelerator": "GPU"
  },
  "cells": [
    {
      "cell_type": "markdown",
      "metadata": {
        "id": "view-in-github",
        "colab_type": "text"
      },
      "source": [
        "<a href=\"https://colab.research.google.com/github/6jffc/CS106A/blob/main/NumberMethod.ipynb\" target=\"_parent\"><img src=\"https://colab.research.google.com/assets/colab-badge.svg\" alt=\"Open In Colab\"/></a>"
      ]
    },
    {
      "cell_type": "markdown",
      "source": [
        "**Divisibility**"
      ],
      "metadata": {
        "id": "p7lIeD3XLdol"
      }
    },
    {
      "cell_type": "code",
      "execution_count": null,
      "metadata": {
        "colab": {
          "base_uri": "https://localhost:8080/"
        },
        "id": "b_STuvxsLcb7",
        "outputId": "ae040a0f-5a39-4ec1-8f39-f0ab0b892aae"
      },
      "outputs": [
        {
          "output_type": "stream",
          "name": "stdout",
          "text": [
            "True\n",
            "False\n",
            "True\n",
            "True\n"
          ]
        }
      ],
      "source": [
        "print(15 % 3 == 0)\n",
        "print(15 % 4 == 0)\n",
        "print(24 % 6 == 0)\n",
        "print(-24 % -6 == 0)"
      ]
    },
    {
      "cell_type": "markdown",
      "source": [
        "**2. Remainders**"
      ],
      "metadata": {
        "id": "0Mss3jsS6nJu"
      }
    },
    {
      "cell_type": "code",
      "source": [
        "a, b = 15, 4\n",
        "print(a // b, a % b)\n",
        "print(divmod(a, b))"
      ],
      "metadata": {
        "colab": {
          "base_uri": "https://localhost:8080/"
        },
        "id": "JPcjEzNl6tdu",
        "outputId": "793d3e31-aa25-423f-d660-8d256022d03a"
      },
      "execution_count": null,
      "outputs": [
        {
          "output_type": "stream",
          "name": "stdout",
          "text": [
            "3 3\n",
            "(3, 3)\n"
          ]
        }
      ]
    },
    {
      "cell_type": "markdown",
      "source": [
        "3. Số nguyên tố"
      ],
      "metadata": {
        "id": "e51s2u_N8CD-"
      }
    },
    {
      "cell_type": "code",
      "source": [
        "import matplotlib.pyplot as plt\n",
        "\n",
        "# Function to check if a number is prime\n",
        "def is_prime(num):\n",
        "    if num <= 1:\n",
        "        return False\n",
        "    if num == 2:\n",
        "        return True  # 2 is prime\n",
        "    if num % 2 == 0:\n",
        "        return False  # Other even numbers are not prime\n",
        "    for i in range(3, int(num**0.5) + 1, 2): # bắt đầu xét từ số 3 lấy căn bậc hai của số xét và cộng với 1\n",
        "        if num % i == 0:\n",
        "            return False\n",
        "    return True\n",
        "\n",
        "# Function to generate the first n prime numbers\n",
        "def generate_primes(n):\n",
        "    primes = []\n",
        "    num = 2\n",
        "    while len(primes) < n:\n",
        "        if is_prime(num):\n",
        "            primes.append(num)\n",
        "        num += 1\n",
        "    return primes\n",
        "\n",
        "def main():\n",
        "    n = int(input(\"Enter the number of prime numbers you want to find: \"))\n",
        "\n",
        "    prime_numbers = generate_primes(n)\n",
        "\n",
        "    # Print the prime numbers\n",
        "    print(\"Prime numbers:\", prime_numbers)\n",
        "\n",
        "    # Plotting the prime numbers (simple representation)\n",
        "    print(\"\\nPlotting the prime numbers:\")\n",
        "    for prime in prime_numbers:\n",
        "        print(prime, \": \", '*' * prime)\n",
        "\n",
        "    # Plotting using matplotlib\n",
        "    plt.figure(figsize=(10, 6))\n",
        "    plt.bar(range(1, n+1), prime_numbers, color='blue')\n",
        "    plt.xlabel('Prime Index')\n",
        "    plt.ylabel('Prime Number')\n",
        "    plt.title(f'First {n} Prime Numbers')\n",
        "    plt.xticks(range(1, n+1))\n",
        "    plt.grid(True)\n",
        "    plt.tight_layout()\n",
        "    plt.show()\n",
        "\n",
        "if __name__ == \"__main__\":\n",
        "    main()\n"
      ],
      "metadata": {
        "colab": {
          "base_uri": "https://localhost:8080/",
          "height": 682
        },
        "id": "Z-hfh11_7_yS",
        "outputId": "962df4cf-fb7a-440a-c4bb-11fdfc6f9ad1"
      },
      "execution_count": null,
      "outputs": [
        {
          "output_type": "stream",
          "name": "stdout",
          "text": [
            "Enter the number of prime numbers you want to find: 9\n",
            "Prime numbers: [2, 3, 5, 7, 11, 13, 17, 19, 23]\n",
            "\n",
            "Plotting the prime numbers:\n",
            "2 :  **\n",
            "3 :  ***\n",
            "5 :  *****\n",
            "7 :  *******\n",
            "11 :  ***********\n",
            "13 :  *************\n",
            "17 :  *****************\n",
            "19 :  *******************\n",
            "23 :  ***********************\n"
          ]
        },
        {
          "output_type": "display_data",
          "data": {
            "text/plain": [
              "<Figure size 1000x600 with 1 Axes>"
            ],
            "image/png": "[encoded data removed]"
          },
          "metadata": {}
        }
      ]
    },
    {
      "cell_type": "markdown",
      "source": [
        "tìm một dãy n số nguyên tố Mersena, n được nhận từ bàn phím"
      ],
      "metadata": {
        "id": "Qk6ruE199xhK"
      }
    },
    {
      "cell_type": "markdown",
      "source": [
        "Bước 1: Tìm số nguyên tố Mersenne\n",
        "Số nguyên tố Mersenne là số nguyên tố có dạng\n",
        "2^𝑃−\n",
        "1\n",
        "2\n",
        "P\n",
        " −1,\n",
        "𝑃\n",
        "P cũng là một số nguyên tố. Chúng ta sẽ sử dụng hàm sau để kiểm tra tính nguyên tố của một số:"
      ],
      "metadata": {
        "id": "dYwx4eez94Qk"
      }
    },
    {
      "cell_type": "code",
      "source": [
        "def is_prime(num):\n",
        "    if num < 2:\n",
        "        return False\n",
        "    for i in range(2, int(num**0.5) + 1):\n",
        "        if num % i == 0:\n",
        "            return False\n",
        "    return True\n"
      ],
      "metadata": {
        "id": "g4HZDHv89yQk"
      },
      "execution_count": null,
      "outputs": []
    },
    {
      "cell_type": "markdown",
      "source": [
        "Bước 2: Tìm n số nguyên tố Mersenne\n",
        "Chúng ta sẽ duyệt qua các số nguyên tố p, và kiểm tra xem\n",
        "2^𝑃 − 1 có"
      ],
      "metadata": {
        "id": "VT_SrstC-Ect"
      }
    },
    {
      "cell_type": "code",
      "source": [
        "def find_mersenne_primes(n):\n",
        "    mersenne_primes = []\n",
        "    candidate_p = 2  # bắt đầu kiểm tra từ số nguyên tố p đầu tiên là 2\n",
        "    while len(mersenne_primes) < n:\n",
        "        mersenne_number = 2**candidate_p - 1\n",
        "        if is_prime(candidate_p) and is_prime(mersenne_number):\n",
        "            mersenne_primes.append(mersenne_number)\n",
        "        candidate_p += 1\n",
        "    return mersenne_primes\n"
      ],
      "metadata": {
        "id": "Tz4L5Lya-Q-N"
      },
      "execution_count": null,
      "outputs": []
    },
    {
      "cell_type": "markdown",
      "source": [
        "Bước 3: Vẽ biểu đồ dãy số nguyên tố Mersenne"
      ],
      "metadata": {
        "id": "HufrILQ4-XHW"
      }
    },
    {
      "cell_type": "code",
      "source": [
        "import matplotlib.pyplot as plt\n",
        "\n",
        "def is_prime(num):\n",
        "    if num < 2:\n",
        "        return False\n",
        "    for i in range(2, int(num**0.5) + 1):\n",
        "        if num % i == 0:\n",
        "            return False\n",
        "    return True\n",
        "\n",
        "\n",
        "\n",
        "def find_mersenne_primes(n):\n",
        "    mersenne_primes = []\n",
        "    candidate_p = 2  # bắt đầu kiểm tra từ số nguyên tố p đầu tiên là 2\n",
        "    while len(mersenne_primes) < n:\n",
        "        mersenne_number = 2**candidate_p - 1\n",
        "        if is_prime(candidate_p) and is_prime(mersenne_number):\n",
        "            mersenne_primes.append(mersenne_number)\n",
        "        candidate_p += 1\n",
        "    return mersenne_primes\n",
        "\n",
        "\n",
        "def plot_mersenne_primes(mersenne_primes):\n",
        "    plt.figure(figsize=(10, 6))\n",
        "    plt.plot(mersenne_primes, marker='o', linestyle='-', color='b', label='Mersenne Primes')\n",
        "    plt.title('Mersenne Prime Numbers')\n",
        "    plt.xlabel('Index')\n",
        "    plt.ylabel('Value')\n",
        "    plt.grid(True)\n",
        "    plt.legend()\n",
        "    plt.tight_layout()\n",
        "    plt.show()\n",
        "\n",
        "# Đọc số lượng số nguyên tố Mersenne cần tìm từ người dùng\n",
        "n = int(input(\"Nhập số lượng số nguyên tố Mersenne cần tìm: \"))\n",
        "mersenne_primes = find_mersenne_primes(n)\n",
        "print(\"Dãy số nguyên tố Mersenne đầu tiên là:\", mersenne_primes)\n",
        "\n",
        "# Vẽ biểu đồ\n",
        "plot_mersenne_primes(mersenne_primes)\n"
      ],
      "metadata": {
        "colab": {
          "base_uri": "https://localhost:8080/",
          "height": 483
        },
        "id": "O9zvSdQ--cqo",
        "outputId": "7fc2da02-9f88-4bc5-e222-ee6f76ae5c81"
      },
      "execution_count": null,
      "outputs": [
        {
          "output_type": "stream",
          "name": "stdout",
          "text": [
            "Nhập số lượng số nguyên tố Mersenne cần tìm: 7\n",
            "Dãy số nguyên tố Mersenne đầu tiên là: [3, 7, 31, 127, 8191, 131071, 524287]\n"
          ]
        },
        {
          "output_type": "display_data",
          "data": {
            "text/plain": [
              "<Figure size 1000x600 with 1 Axes>"
            ],
            "image/png": "[encoded data removed]"
          },
          "metadata": {}
        }
      ]
    },
    {
      "cell_type": "markdown",
      "source": [
        "RIEMANNS PRIME FORMULA"
      ],
      "metadata": {
        "id": "Y13gDN6NGCl_"
      }
    },
    {
      "cell_type": "markdown",
      "source": [
        "hàm Riemann zeta: Công thức này liên quan đến hàm Riemann zeta và cho phép ước lượng số lượng số nguyên tố nhỏ hơn hoặc bằng một số nguyên dương\n",
        "𝑥\n",
        "x.\n",
        "\n",
        "Dưới đây là một ví dụ đơn giản về việc áp dụng công thức số nguyên tố của Riemann để ước lượng số lượng số nguyên tố nhỏ hơn hoặc bằng một giá trị xác định trong Python"
      ],
      "metadata": {
        "id": "oNGaK23NGO-M"
      }
    },
    {
      "cell_type": "code",
      "source": [
        "import math\n",
        "import matplotlib.pyplot as plt\n",
        "\n",
        "def is_prime(num):\n",
        "    \"\"\" Kiểm tra xem một số có phải là số nguyên tố hay không \"\"\"\n",
        "    if num < 2:\n",
        "        return False\n",
        "    if num == 2:\n",
        "        return True\n",
        "    if num % 2 == 0:\n",
        "        return False\n",
        "    for i in range(3, int(math.sqrt(num)) + 1, 2):\n",
        "        if num % i == 0:\n",
        "            return False\n",
        "    return True\n",
        "\n",
        "def prime_count_estimate(x):\n",
        "    \"\"\" Ước tính số lượng số nguyên tố nhỏ hơn hoặc bằng x \"\"\"\n",
        "    count = 0\n",
        "    for num in range(2, x + 1):\n",
        "        if is_prime(num):\n",
        "            count += 1\n",
        "    return count\n",
        "\n",
        "def plot_prime_counts(max_x):\n",
        "    \"\"\" Vẽ biểu đồ số lượng số nguyên tố từ 1 đến max_x \"\"\"\n",
        "    x_values = list(range(1, max_x + 1))\n",
        "    y_values = [prime_count_estimate(x) for x in x_values]\n",
        "\n",
        "    plt.figure(figsize=(10, 6))\n",
        "    plt.plot(x_values, y_values, marker='o', linestyle='-', color='b', label='Prime Count')\n",
        "    plt.title('Prime Count Estimate')\n",
        "    plt.xlabel('x')\n",
        "    plt.ylabel('Number of Primes <= x')\n",
        "    plt.grid(True)\n",
        "    plt.legend()\n",
        "    plt.tight_layout()\n",
        "    plt.show()\n",
        "\n",
        "# Thực hiện ví dụ\n",
        "max_x = 100\n",
        "estimated_primes = prime_count_estimate(max_x)\n",
        "print(f\"The estimated number of prime numbers <= {max_x} is: {estimated_primes}\")\n",
        "\n",
        "# Vẽ biểu đồ\n",
        "plot_prime_counts(max_x)\n"
      ],
      "metadata": {
        "colab": {
          "base_uri": "https://localhost:8080/",
          "height": 465
        },
        "id": "-hlOMymbGJKu",
        "outputId": "f566674d-f0c0-48fa-ee27-ce189e5b33db"
      },
      "execution_count": null,
      "outputs": [
        {
          "output_type": "stream",
          "name": "stdout",
          "text": [
            "The estimated number of prime numbers <= 100 is: 25\n"
          ]
        },
        {
          "output_type": "display_data",
          "data": {
            "text/plain": [
              "<Figure size 1000x600 with 1 Axes>"
            ],
            "image/png": "[encoded data removed]"
          },
          "metadata": {}
        }
      ]
    },
    {
      "cell_type": "markdown",
      "source": [
        "Phương trình Diophantine"
      ],
      "metadata": {
        "id": "hRx0JNzUPceZ"
      }
    },
    {
      "cell_type": "code",
      "source": [
        "def check_fermat_equation(n, c):\n",
        "    solutions = []\n",
        "    for x in range(1, c):\n",
        "        for y in range(1, c):\n",
        "            if x**n + y**n == c**n:\n",
        "                solutions.append((x, y, c))\n",
        "    return solutions\n",
        "\n",
        "# Ví dụ sử dụng\n",
        "n = 2\n",
        "c = 5\n",
        "solutions = check_fermat_equation(n, c)\n",
        "\n",
        "if solutions:\n",
        "    print(f\"Phương trình có các bộ số nguyên dương (x, y, c) thỏa mãn:\")\n",
        "    for solution in solutions:\n",
        "        print(solution)\n",
        "else:\n",
        "    print(\"Không có bộ số nguyên dương (x, y, c) thỏa mãn phương trình.\")\n"
      ],
      "metadata": {
        "colab": {
          "base_uri": "https://localhost:8080/"
        },
        "id": "LZT_pss9Phve",
        "outputId": "a5b0b2e1-6298-4566-f464-8eebecb8abaf"
      },
      "execution_count": null,
      "outputs": [
        {
          "output_type": "stream",
          "name": "stdout",
          "text": [
            "Phương trình có các bộ số nguyên dương (x, y, c) thỏa mãn:\n",
            "(3, 4, 5)\n",
            "(4, 3, 5)\n"
          ]
        }
      ]
    },
    {
      "cell_type": "code",
      "source": [
        "def train(X, y, n_hidden, learning_rate, n_iter):\n",
        "    m, n_input = X.shape\n",
        "\n",
        "    # 1. random initialize weights and biases\n",
        "    w1 = np.random.randn(n_input, n_hidden)\n",
        "    b1 = np.zeros((1, n_hidden))\n",
        "    w2 = np.random.randn(n_hidden, 1)\n",
        "    b2 = np.zeros((1, 1))\n",
        "\n",
        "    # 2. in each iteration, feed all layers with the latest weights and biases\n",
        "    for i in range(n_iter + 1):\n",
        "        z2 = np.dot(X, w1) + b1\n",
        "        a2 = sigmoid(z2)\n",
        "        z3 = np.dot(a2, w2) + b2\n",
        "        a3 = z3\n",
        "        dz3 = a3 - y\n",
        "        dw2 = np.dot(a2.T, dz3)\n",
        "        db2 = np.sum(dz3, axis=0, keepdims=True)\n",
        "        dz2 = np.dot(dz3, w2.T) * sigmoid_derivative(z2)\n",
        "        dw1 = np.dot(X.T, dz2)\n",
        "        db1 = np.sum(dz2, axis=0)\n",
        "\n",
        "        # 3. update weights and biases with gradients\n",
        "        w1 -= learning_rate * dw1 / m\n",
        "        w2 -= learning_rate * dw2 / m\n",
        "        b1 -= learning_rate * db1 / m\n",
        "        b2 -= learning_rate * db2 / m\n",
        "\n",
        "        if i % 1000 == 0:\n",
        "            print(\"Epoch\", i, \"loss: \", np.mean(np.square(dz3)))\n",
        "\n",
        "    model = {\"w1\": w1, \"b1\": b1, \"w2\": w2, \"b2\": b2}\n",
        "    return model"
      ],
      "metadata": {
        "id": "xG28aR_BaXGh"
      },
      "execution_count": null,
      "outputs": []
    },
    {
      "cell_type": "code",
      "source": [
        "import tensorflow as tf   # TensorFlow registers PluggableDevices here.\n",
        "tf.config.list_physical_devices()  # APU device is visible to TensorFlow.\n",
        "[PhysicalDevice(name='/physical_device:CPU:0', device_type='CPU'), PhysicalDevice(name='/physical_device:APU:0', device_type='APU')]\n",
        "\n",
        "a = tf.random.normal(shape=[5], dtype=tf.float32)  # Runs on CPU.\n",
        "b =  tf.nn.relu(a)         # Runs on APU.\n",
        "\n",
        "with tf.device(\"/APU:0\"):  # Users can also use 'with tf.device' syntax.\n",
        "  c = tf.nn.relu(a)        # Runs on APU.\n",
        "\n",
        "with tf.device(\"/CPU:0\"):\n",
        "  c = tf.nn.relu(a)        # Runs on CPU.\n",
        "\n",
        "@tf.function  # Defining a tf.function\n",
        "def run():\n",
        "  d = tf.random.uniform(shape=[100], dtype=tf.float32)  # Runs on CPU.\n",
        "  e = tf.nn.relu(d)        # Runs on APU.\n",
        "\n",
        "run()  # PluggableDevices also work with tf.function and graph mode."
      ],
      "metadata": {
        "colab": {
          "base_uri": "https://localhost:8080/",
          "height": 236
        },
        "id": "7-vdw_7BtZiq",
        "outputId": "24ee18ee-dcd9-4fc3-f896-bfa2e413b60f"
      },
      "execution_count": null,
      "outputs": [
        {
          "output_type": "error",
          "ename": "NameError",
          "evalue": "name 'PhysicalDevice' is not defined",
          "traceback": [
            "\u001b[0;31m---------------------------------------------------------------------------\u001b[0m",
            "\u001b[0;31mNameError\u001b[0m                                 Traceback (most recent call last)",
            "\u001b[0;32m<ipython-input-1-6bd352a875eb>\u001b[0m in \u001b[0;36m<cell line: 3>\u001b[0;34m()\u001b[0m\n\u001b[1;32m      1\u001b[0m \u001b[0;32mimport\u001b[0m \u001b[0mtensorflow\u001b[0m \u001b[0;32mas\u001b[0m \u001b[0mtf\u001b[0m   \u001b[0;31m# TensorFlow registers PluggableDevices here.\u001b[0m\u001b[0;34m\u001b[0m\u001b[0;34m\u001b[0m\u001b[0m\n\u001b[1;32m      2\u001b[0m \u001b[0mtf\u001b[0m\u001b[0;34m.\u001b[0m\u001b[0mconfig\u001b[0m\u001b[0;34m.\u001b[0m\u001b[0mlist_physical_devices\u001b[0m\u001b[0;34m(\u001b[0m\u001b[0;34m)\u001b[0m  \u001b[0;31m# APU device is visible to TensorFlow.\u001b[0m\u001b[0;34m\u001b[0m\u001b[0;34m\u001b[0m\u001b[0m\n\u001b[0;32m----> 3\u001b[0;31m \u001b[0;34m[\u001b[0m\u001b[0mPhysicalDevice\u001b[0m\u001b[0;34m(\u001b[0m\u001b[0mname\u001b[0m\u001b[0;34m=\u001b[0m\u001b[0;34m'/physical_device:CPU:0'\u001b[0m\u001b[0;34m,\u001b[0m \u001b[0mdevice_type\u001b[0m\u001b[0;34m=\u001b[0m\u001b[0;34m'CPU'\u001b[0m\u001b[0;34m)\u001b[0m\u001b[0;34m,\u001b[0m \u001b[0mPhysicalDevice\u001b[0m\u001b[0;34m(\u001b[0m\u001b[0mname\u001b[0m\u001b[0;34m=\u001b[0m\u001b[0;34m'/physical_device:APU:0'\u001b[0m\u001b[0;34m,\u001b[0m \u001b[0mdevice_type\u001b[0m\u001b[0;34m=\u001b[0m\u001b[0;34m'APU'\u001b[0m\u001b[0;34m)\u001b[0m\u001b[0;34m]\u001b[0m\u001b[0;34m\u001b[0m\u001b[0;34m\u001b[0m\u001b[0m\n\u001b[0m\u001b[1;32m      4\u001b[0m \u001b[0;34m\u001b[0m\u001b[0m\n\u001b[1;32m      5\u001b[0m \u001b[0ma\u001b[0m \u001b[0;34m=\u001b[0m \u001b[0mtf\u001b[0m\u001b[0;34m.\u001b[0m\u001b[0mrandom\u001b[0m\u001b[0;34m.\u001b[0m\u001b[0mnormal\u001b[0m\u001b[0;34m(\u001b[0m\u001b[0mshape\u001b[0m\u001b[0;34m=\u001b[0m\u001b[0;34m[\u001b[0m\u001b[0;36m5\u001b[0m\u001b[0;34m]\u001b[0m\u001b[0;34m,\u001b[0m \u001b[0mdtype\u001b[0m\u001b[0;34m=\u001b[0m\u001b[0mtf\u001b[0m\u001b[0;34m.\u001b[0m\u001b[0mfloat32\u001b[0m\u001b[0;34m)\u001b[0m  \u001b[0;31m# Runs on CPU.\u001b[0m\u001b[0;34m\u001b[0m\u001b[0;34m\u001b[0m\u001b[0m\n",
            "\u001b[0;31mNameError\u001b[0m: name 'PhysicalDevice' is not defined"
          ]
        }
      ]
    },
    {
      "cell_type": "code",
      "source": [
        "import tensorflow as tf\n",
        "\n",
        "# Check available physical devices\n",
        "tf.config.list_physical_devices()\n",
        "\n",
        "# Example output:\n",
        "# [PhysicalDevice(name='/physical_device:CPU:0', device_type='CPU'),\n",
        "#  PhysicalDevice(name='/physical_device:GPU:0', device_type='GPU'),\n",
        "#  PhysicalDevice(name='/physical_device:APU:0', device_type='APU')]\n",
        "\n",
        "# Define a tensor on CPU\n",
        "a = tf.random.normal(shape=[5], dtype=tf.float32)  # Runs on CPU\n",
        "\n",
        "# Example of using a function (ReLU) on the CPU tensor\n",
        "b = tf.nn.relu(a)  # Runs on CPU\n",
        "\n",
        "# Example of using a function (ReLU) on the APU tensor\n",
        "with tf.device(\"/physical_device:APU:0\"):  # Use the correct device name\n",
        "    c = tf.nn.relu(a)  # Runs on APU\n",
        "\n",
        "# Another example of using a function (ReLU) on the CPU tensor\n",
        "with tf.device(\"/CPU:0\"):\n",
        "    d = tf.nn.relu(a)  # Runs on CPU\n",
        "\n",
        "# Defining a tf.function to optimize TensorFlow execution\n",
        "@tf.function\n",
        "def run():\n",
        "    e = tf.random.uniform(shape=[100], dtype=tf.float32)  # Runs on CPU\n",
        "    f = tf.nn.relu(e)  # Runs on CPU\n",
        "\n",
        "run()  # PluggableDevices also work with tf.function and graph mode.\n"
      ],
      "metadata": {
        "id": "HbMRZFSpt_Lb",
        "outputId": "4e6d6916-efea-4a94-a391-fe2aa0ef85de",
        "colab": {
          "base_uri": "https://localhost:8080/",
          "height": 459
        }
      },
      "execution_count": null,
      "outputs": [
        {
          "output_type": "error",
          "ename": "ValueError",
          "evalue": "Unknown attribute 'physical_device' is encountered while parsing the device spec: '/physical_device:APU:0'.",
          "traceback": [
            "\u001b[0;31m---------------------------------------------------------------------------\u001b[0m",
            "\u001b[0;31mKeyError\u001b[0m                                  Traceback (most recent call last)",
            "\u001b[0;32m/usr/local/lib/python3.10/dist-packages/tensorflow/python/eager/context.py\u001b[0m in \u001b[0;36m__enter__\u001b[0;34m(self)\u001b[0m\n\u001b[1;32m   2167\u001b[0m     \u001b[0;32mtry\u001b[0m\u001b[0;34m:\u001b[0m\u001b[0;34m\u001b[0m\u001b[0;34m\u001b[0m\u001b[0m\n\u001b[0;32m-> 2168\u001b[0;31m       \u001b[0mnew_device_name\u001b[0m\u001b[0;34m,\u001b[0m \u001b[0mnew_device_spec\u001b[0m \u001b[0;34m=\u001b[0m \u001b[0m_device_parsing_cache\u001b[0m\u001b[0;34m[\u001b[0m\u001b[0mcache_key\u001b[0m\u001b[0;34m]\u001b[0m\u001b[0;34m\u001b[0m\u001b[0;34m\u001b[0m\u001b[0m\n\u001b[0m\u001b[1;32m   2169\u001b[0m     \u001b[0;32mexcept\u001b[0m \u001b[0mTypeError\u001b[0m\u001b[0;34m:\u001b[0m\u001b[0;34m\u001b[0m\u001b[0;34m\u001b[0m\u001b[0m\n",
            "\u001b[0;31mKeyError\u001b[0m: ('', '/physical_device:APU:0')",
            "\nDuring handling of the above exception, another exception occurred:\n",
            "\u001b[0;31mValueError\u001b[0m                                Traceback (most recent call last)",
            "\u001b[0;32m<ipython-input-3-a70b1d3ff3b9>\u001b[0m in \u001b[0;36m<cell line: 18>\u001b[0;34m()\u001b[0m\n\u001b[1;32m     16\u001b[0m \u001b[0;34m\u001b[0m\u001b[0m\n\u001b[1;32m     17\u001b[0m \u001b[0;31m# Example of using a function (ReLU) on the APU tensor\u001b[0m\u001b[0;34m\u001b[0m\u001b[0;34m\u001b[0m\u001b[0m\n\u001b[0;32m---> 18\u001b[0;31m \u001b[0;32mwith\u001b[0m \u001b[0mtf\u001b[0m\u001b[0;34m.\u001b[0m\u001b[0mdevice\u001b[0m\u001b[0;34m(\u001b[0m\u001b[0;34m\"/physical_device:APU:0\"\u001b[0m\u001b[0;34m)\u001b[0m\u001b[0;34m:\u001b[0m  \u001b[0;31m# Use the correct device name\u001b[0m\u001b[0;34m\u001b[0m\u001b[0;34m\u001b[0m\u001b[0m\n\u001b[0m\u001b[1;32m     19\u001b[0m     \u001b[0mc\u001b[0m \u001b[0;34m=\u001b[0m \u001b[0mtf\u001b[0m\u001b[0;34m.\u001b[0m\u001b[0mnn\u001b[0m\u001b[0;34m.\u001b[0m\u001b[0mrelu\u001b[0m\u001b[0;34m(\u001b[0m\u001b[0ma\u001b[0m\u001b[0;34m)\u001b[0m  \u001b[0;31m# Runs on APU\u001b[0m\u001b[0;34m\u001b[0m\u001b[0;34m\u001b[0m\u001b[0m\n\u001b[1;32m     20\u001b[0m \u001b[0;34m\u001b[0m\u001b[0m\n",
            "\u001b[0;32m/usr/local/lib/python3.10/dist-packages/tensorflow/python/eager/context.py\u001b[0m in \u001b[0;36m__enter__\u001b[0;34m(self)\u001b[0m\n\u001b[1;32m   2177\u001b[0m           raise ValueError(\"Expecting a string device name. Got %s(%s)\" %\n\u001b[1;32m   2178\u001b[0m                            (type(new_device_name), new_device_name))\n\u001b[0;32m-> 2179\u001b[0;31m         \u001b[0mdevice_spec\u001b[0m \u001b[0;34m=\u001b[0m \u001b[0mpydev\u001b[0m\u001b[0;34m.\u001b[0m\u001b[0mDeviceSpec\u001b[0m\u001b[0;34m.\u001b[0m\u001b[0mfrom_string\u001b[0m\u001b[0;34m(\u001b[0m\u001b[0mnew_device_name\u001b[0m\u001b[0;34m)\u001b[0m\u001b[0;34m\u001b[0m\u001b[0;34m\u001b[0m\u001b[0m\n\u001b[0m\u001b[1;32m   2180\u001b[0m         \u001b[0;32mif\u001b[0m \u001b[0mold_device_name\u001b[0m\u001b[0;34m:\u001b[0m\u001b[0;34m\u001b[0m\u001b[0;34m\u001b[0m\u001b[0m\n\u001b[1;32m   2181\u001b[0m           \u001b[0mnew_device_spec\u001b[0m \u001b[0;34m=\u001b[0m \u001b[0mcopy\u001b[0m\u001b[0;34m.\u001b[0m\u001b[0mcopy\u001b[0m\u001b[0;34m(\u001b[0m\u001b[0mold_device_spec\u001b[0m\u001b[0;34m)\u001b[0m\u001b[0;34m\u001b[0m\u001b[0;34m\u001b[0m\u001b[0m\n",
            "\u001b[0;32m/usr/local/lib/python3.10/dist-packages/tensorflow/python/framework/device_spec.py\u001b[0m in \u001b[0;36mfrom_string\u001b[0;34m(cls, spec)\u001b[0m\n\u001b[1;32m    156\u001b[0m       \u001b[0mA\u001b[0m \u001b[0mDeviceSpec\u001b[0m\u001b[0;34m.\u001b[0m\u001b[0;34m\u001b[0m\u001b[0;34m\u001b[0m\u001b[0m\n\u001b[1;32m    157\u001b[0m     \"\"\"\n\u001b[0;32m--> 158\u001b[0;31m     \u001b[0;32mreturn\u001b[0m \u001b[0mcls\u001b[0m\u001b[0;34m(\u001b[0m\u001b[0;34m*\u001b[0m\u001b[0mcls\u001b[0m\u001b[0;34m.\u001b[0m\u001b[0m_string_to_components\u001b[0m\u001b[0;34m(\u001b[0m\u001b[0mspec\u001b[0m\u001b[0;34m)\u001b[0m\u001b[0;34m)\u001b[0m\u001b[0;34m\u001b[0m\u001b[0;34m\u001b[0m\u001b[0m\n\u001b[0m\u001b[1;32m    159\u001b[0m \u001b[0;34m\u001b[0m\u001b[0m\n\u001b[1;32m    160\u001b[0m   \u001b[0;32mdef\u001b[0m \u001b[0mparse_from_string\u001b[0m\u001b[0;34m(\u001b[0m\u001b[0mself\u001b[0m\u001b[0;34m,\u001b[0m \u001b[0mspec\u001b[0m\u001b[0;34m)\u001b[0m\u001b[0;34m:\u001b[0m\u001b[0;34m\u001b[0m\u001b[0;34m\u001b[0m\u001b[0m\n",
            "\u001b[0;32m/usr/local/lib/python3.10/dist-packages/tensorflow/python/framework/device_spec.py\u001b[0m in \u001b[0;36m_string_to_components\u001b[0;34m(spec)\u001b[0m\n\u001b[1;32m    360\u001b[0m             \u001b[0mdevice_index\u001b[0m \u001b[0;34m=\u001b[0m \u001b[0mint\u001b[0m\u001b[0;34m(\u001b[0m\u001b[0my\u001b[0m\u001b[0;34m[\u001b[0m\u001b[0;36m2\u001b[0m\u001b[0;34m]\u001b[0m\u001b[0;34m)\u001b[0m\u001b[0;34m\u001b[0m\u001b[0;34m\u001b[0m\u001b[0m\n\u001b[1;32m    361\u001b[0m         \u001b[0;32melif\u001b[0m \u001b[0mly\u001b[0m \u001b[0;32mand\u001b[0m \u001b[0my\u001b[0m\u001b[0;34m[\u001b[0m\u001b[0;36m0\u001b[0m\u001b[0;34m]\u001b[0m \u001b[0;34m!=\u001b[0m \u001b[0;34m\"\"\u001b[0m\u001b[0;34m:\u001b[0m  \u001b[0;31m# pylint: disable=g-explicit-bool-comparison\u001b[0m\u001b[0;34m\u001b[0m\u001b[0;34m\u001b[0m\u001b[0m\n\u001b[0;32m--> 362\u001b[0;31m           raise ValueError(f\"Unknown attribute '{y[0]}' is encountered \"\n\u001b[0m\u001b[1;32m    363\u001b[0m                            f\"while parsing the device spec: '{spec}'.\")\n\u001b[1;32m    364\u001b[0m \u001b[0;34m\u001b[0m\u001b[0m\n",
            "\u001b[0;31mValueError\u001b[0m: Unknown attribute 'physical_device' is encountered while parsing the device spec: '/physical_device:APU:0'."
          ]
        }
      ]
    }
  ]
}