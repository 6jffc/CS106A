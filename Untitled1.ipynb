{
  "nbformat": 4,
  "nbformat_minor": 0,
  "metadata": {
    "colab": {
      "provenance": [],
      "authorship_tag": "ABX9TyOi3ikxWq9ajGrzKsQ1n3Zb",
      "include_colab_link": true
    },
    "kernelspec": {
      "name": "python3",
      "display_name": "Python 3"
    },
    "language_info": {
      "name": "python"
    }
  },
  "cells": [
    {
      "cell_type": "markdown",
      "metadata": {
        "id": "view-in-github",
        "colab_type": "text"
      },
      "source": [
        "<a href=\"https://colab.research.google.com/github/6jffc/CS106A/blob/main/Untitled1.ipynb\" target=\"_parent\"><img src=\"https://colab.research.google.com/assets/colab-badge.svg\" alt=\"Open In Colab\"/></a>"
      ]
    },
    {
      "cell_type": "markdown",
      "source": [
        "#Linear algebra (NumPy)"
      ],
      "metadata": {
        "id": "EL3VT_fS4nCn"
      }
    },
    {
      "cell_type": "markdown",
      "source": [
        "*Tại sao nên sử dụng NumPy?*\n",
        "Danh sách Python là các thùng chứa tuyệt vời, có mục đích chung. Họ có thể là \"không đồng nhất\", có nghĩa là chúng có thể chứa các yếu tố thuộc nhiều loại khác nhau, Và chúng khá nhanh khi được sử dụng để thực hiện các hoạt động riêng lẻ trên một số ít của các yếu tố.\n",
        "\n",
        "Tùy thuộc vào đặc điểm của dữ liệu và các loại hoạt động mà cần phải được thực hiện, các container khác có thể phù hợp hơn; bằng cách khai thác Những đặc điểm này, chúng tôi có thể cải thiện tốc độ, giảm mức tiêu thụ bộ nhớ và Cung cấp cú pháp cấp cao để thực hiện nhiều tác vụ xử lý phổ biến. NumPy tỏa sáng khi có số lượng lớn dữ liệu \"đồng nhất\" (cùng loại) sẽ được xử lý trên CPU."
      ],
      "metadata": {
        "id": "Tv0ktUQr8gEP"
      }
    },
    {
      "cell_type": "markdown",
      "source": [
        "**What is an “array”?**"
      ],
      "metadata": {
        "id": "qIDm0P408qal"
      }
    },
    {
      "cell_type": "markdown",
      "source": [
        "Trong lập trình máy tính, một mảng là một cấu trúc để lưu trữ và truy xuất dữ liệu. Chúng ta thường nói về một mảng như thể nó là một lưới trong không gian, với mỗi mảng ô lưu trữ một phần tử của dữ liệu. Ví dụ, nếu mỗi phần tử của Dữ liệu là một con số, chúng ta có thể hình dung một mảng \"một chiều\" như một danh sách:\n",
        "\n",
        "\n",
        "![image.png](data:image/png;base64,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)"
      ],
      "metadata": {
        "id": "q6QaUtHs8vEr"
      }
    },
    {
      "cell_type": "code",
      "source": [
        "import numpy as np\n",
        "a = np.array([1, 5, 2, 0])"
      ],
      "metadata": {
        "id": "KdLGZlNw9AmQ"
      },
      "execution_count": null,
      "outputs": []
    },
    {
      "cell_type": "code",
      "source": [
        "a"
      ],
      "metadata": {
        "colab": {
          "base_uri": "https://localhost:8080/"
        },
        "id": "fJlr7UAg9MRQ",
        "outputId": "2e8f692e-d544-4dff-ab9a-16bd1355ee04"
      },
      "execution_count": null,
      "outputs": [
        {
          "output_type": "execute_result",
          "data": {
            "text/plain": [
              "array([1, 5, 2, 0])"
            ]
          },
          "metadata": {},
          "execution_count": 8
        }
      ]
    },
    {
      "cell_type": "markdown",
      "source": [
        "Một (two-dimensional) mảng hai chiều sẽ giống như một bảng:\n"
      ],
      "metadata": {
        "id": "ByhvlofC9TSv"
      }
    },
    {
      "cell_type": "markdown",
      "source": [
        "![image.png](data:image/png;base64,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)"
      ],
      "metadata": {
        "id": "YUAG_5hP9nrQ"
      }
    },
    {
      "cell_type": "code",
      "source": [
        "import numpy as np\n",
        "b = np.array([[1, 5, 2, 0],\n",
        "              [8, 3, 6, 1],\n",
        "              [1, 7, 2, 9]])\n"
      ],
      "metadata": {
        "id": "HMOEa3E49r2K"
      },
      "execution_count": null,
      "outputs": []
    },
    {
      "cell_type": "code",
      "source": [
        "b"
      ],
      "metadata": {
        "colab": {
          "base_uri": "https://localhost:8080/"
        },
        "id": "2cdL9dIQ-Lw6",
        "outputId": "c653d0cc-2f1d-4bc9-b4c9-1f0166ca0e6f"
      },
      "execution_count": null,
      "outputs": [
        {
          "output_type": "execute_result",
          "data": {
            "text/plain": [
              "array([[1, 5, 2, 0],\n",
              "       [8, 3, 6, 1],\n",
              "       [1, 7, 2, 9]])"
            ]
          },
          "metadata": {},
          "execution_count": 10
        }
      ]
    },
    {
      "cell_type": "markdown",
      "source": [
        "A three-dimensional array would be like a set of tables, perhaps stacked as though they were printed on separate pages. In NumPy, this idea is generalized to an arbitrary number of dimensions, and so the fundamental array class is called : it represents an “N-dimensional array”.\n",
        "```python\n",
        "ndarray\n",
        "```"
      ],
      "metadata": {
        "id": "ZPsVawY9-YfY"
      }
    },
    {
      "cell_type": "markdown",
      "source": [
        "Lec 3: Numpy\n",
        "\n",
        "- Vectorization\n",
        "- Boardcast\n",
        "- Identify Matrix\n",
        "- Indexing and Slicing\n",
        "- Fancy Array\n",
        "- Reduction Operation"
      ],
      "metadata": {
        "id": "u7sa_5Xe4uZe"
      }
    },
    {
      "cell_type": "markdown",
      "source": [
        "## Basic Section (Start)\n"
      ],
      "metadata": {
        "id": "kJFuusNc7bee"
      }
    },
    {
      "cell_type": "code",
      "source": [
        "import numpy as np"
      ],
      "metadata": {
        "id": "EhEOET3E4tnN"
      },
      "execution_count": null,
      "outputs": []
    },
    {
      "cell_type": "code",
      "source": [
        "a = np.array([[1, 2, 3],\n",
        "              [4, 5, 6]])\n",
        "a"
      ],
      "metadata": {
        "colab": {
          "base_uri": "https://localhost:8080/"
        },
        "id": "DvIKVa4x8FIe",
        "outputId": "f64b146b-813b-4051-8630-e2033150ae9d"
      },
      "execution_count": null,
      "outputs": [
        {
          "output_type": "execute_result",
          "data": {
            "text/plain": [
              "array([[1, 2, 3],\n",
              "       [4, 5, 6]])"
            ]
          },
          "metadata": {},
          "execution_count": 5
        }
      ]
    },
    {
      "cell_type": "code",
      "source": [
        "a.shape"
      ],
      "metadata": {
        "colab": {
          "base_uri": "https://localhost:8080/"
        },
        "id": "Kt0LMEQo8S53",
        "outputId": "2375c471-6b43-4e2d-c767-ef56bcce652b"
      },
      "execution_count": null,
      "outputs": [
        {
          "output_type": "execute_result",
          "data": {
            "text/plain": [
              "(2, 3)"
            ]
          },
          "metadata": {},
          "execution_count": 6
        }
      ]
    },
    {
      "cell_type": "code",
      "source": [
        "import matplotlib.pyplot as plt\n",
        "import numpy as np\n",
        "\n",
        "def plot_vector2d(vector2d, origins=[0, 0], **options):\n",
        "    return plt.arrow(origins[0], origins[1], vector2d[0], vector2d[1],\n",
        "                     head_width=0.2, head_length=0.3, length_includes_head=True, **options)\n",
        "\n",
        "u = np.array([2, 4])\n",
        "plt.scatter(u[0], u[1], color=\"b\")\n",
        "plot_vector2d(u, color=\"r\")\n",
        "plt.xlabel(\"X\")\n",
        "plt.ylabel(\"Y\")\n",
        "plt.axis([0, 6, 0, 6])\n",
        "#plt.grid(True)  # Thêm lưới để dễ nhìn\n",
        "plt.show()\n"
      ],
      "metadata": {
        "colab": {
          "base_uri": "https://localhost:8080/",
          "height": 455
        },
        "id": "FlOSHnP3BcXe",
        "outputId": "634ba751-28b2-481d-8bce-a195fdbfc076"
      },
      "execution_count": null,
      "outputs": [
        {
          "output_type": "display_data",
          "data": {
            "text/plain": [
              "<Figure size 640x480 with 1 Axes>"
            ],
            "image/png": "[encoded data removed]"
          },
          "metadata": {}
        }
      ]
    },
    {
      "cell_type": "code",
      "source": [
        "class MyGroup(ExceptionGroup):\n",
        "    def derive(self, excs):\n",
        "        return MyGroup(self.message, excs)"
      ],
      "metadata": {
        "colab": {
          "base_uri": "https://localhost:8080/",
          "height": 182
        },
        "id": "nCd5Q_8gCf36",
        "outputId": "15baaf54-429b-4b02-a6f6-23a3f1420245"
      },
      "execution_count": null,
      "outputs": [
        {
          "output_type": "error",
          "ename": "NameError",
          "evalue": "name 'ExceptionGroup' is not defined",
          "traceback": [
            "\u001b[0;31m---------------------------------------------------------------------------\u001b[0m",
            "\u001b[0;31mNameError\u001b[0m                                 Traceback (most recent call last)",
            "\u001b[0;32m<ipython-input-1-c32df5809cfd>\u001b[0m in \u001b[0;36m<cell line: 1>\u001b[0;34m()\u001b[0m\n\u001b[0;32m----> 1\u001b[0;31m \u001b[0;32mclass\u001b[0m \u001b[0mMyGroup\u001b[0m\u001b[0;34m(\u001b[0m\u001b[0mExceptionGroup\u001b[0m\u001b[0;34m)\u001b[0m\u001b[0;34m:\u001b[0m\u001b[0;34m\u001b[0m\u001b[0;34m\u001b[0m\u001b[0m\n\u001b[0m\u001b[1;32m      2\u001b[0m     \u001b[0;32mdef\u001b[0m \u001b[0mderive\u001b[0m\u001b[0;34m(\u001b[0m\u001b[0mself\u001b[0m\u001b[0;34m,\u001b[0m \u001b[0mexcs\u001b[0m\u001b[0;34m)\u001b[0m\u001b[0;34m:\u001b[0m\u001b[0;34m\u001b[0m\u001b[0;34m\u001b[0m\u001b[0m\n\u001b[1;32m      3\u001b[0m         \u001b[0;32mreturn\u001b[0m \u001b[0mMyGroup\u001b[0m\u001b[0;34m(\u001b[0m\u001b[0mself\u001b[0m\u001b[0;34m.\u001b[0m\u001b[0mmessage\u001b[0m\u001b[0;34m,\u001b[0m \u001b[0mexcs\u001b[0m\u001b[0;34m)\u001b[0m\u001b[0;34m\u001b[0m\u001b[0;34m\u001b[0m\u001b[0m\n",
            "\u001b[0;31mNameError\u001b[0m: name 'ExceptionGroup' is not defined"
          ]
        }
      ]
    },
    {
      "cell_type": "code",
      "source": [
        "class Errors(ExceptionGroup):\n",
        "   def __new__(cls, errors, exit_code):\n",
        "      self = super().__new__(Errors, f\"exit code: {exit_code}\", errors)\n",
        "      self.exit_code = exit_code\n",
        "      return self\n",
        "\n",
        "   def derive(self, excs):\n",
        "      return Errors(excs, self.exit_code)"
      ],
      "metadata": {
        "id": "zWS0raBACwcf",
        "outputId": "0e9e9cd3-d927-4a80-c36c-c58bc1b22035",
        "colab": {
          "base_uri": "https://localhost:8080/",
          "height": 218
        }
      },
      "execution_count": null,
      "outputs": [
        {
          "output_type": "error",
          "ename": "NameError",
          "evalue": "name 'ExceptionGroup' is not defined",
          "traceback": [
            "\u001b[0;31m---------------------------------------------------------------------------\u001b[0m",
            "\u001b[0;31mNameError\u001b[0m                                 Traceback (most recent call last)",
            "\u001b[0;32m<ipython-input-2-eeb56384df4b>\u001b[0m in \u001b[0;36m<cell line: 1>\u001b[0;34m()\u001b[0m\n\u001b[0;32m----> 1\u001b[0;31m \u001b[0;32mclass\u001b[0m \u001b[0mErrors\u001b[0m\u001b[0;34m(\u001b[0m\u001b[0mExceptionGroup\u001b[0m\u001b[0;34m)\u001b[0m\u001b[0;34m:\u001b[0m\u001b[0;34m\u001b[0m\u001b[0;34m\u001b[0m\u001b[0m\n\u001b[0m\u001b[1;32m      2\u001b[0m    \u001b[0;32mdef\u001b[0m \u001b[0m__new__\u001b[0m\u001b[0;34m(\u001b[0m\u001b[0mcls\u001b[0m\u001b[0;34m,\u001b[0m \u001b[0merrors\u001b[0m\u001b[0;34m,\u001b[0m \u001b[0mexit_code\u001b[0m\u001b[0;34m)\u001b[0m\u001b[0;34m:\u001b[0m\u001b[0;34m\u001b[0m\u001b[0;34m\u001b[0m\u001b[0m\n\u001b[1;32m      3\u001b[0m       \u001b[0mself\u001b[0m \u001b[0;34m=\u001b[0m \u001b[0msuper\u001b[0m\u001b[0;34m(\u001b[0m\u001b[0;34m)\u001b[0m\u001b[0;34m.\u001b[0m\u001b[0m__new__\u001b[0m\u001b[0;34m(\u001b[0m\u001b[0mErrors\u001b[0m\u001b[0;34m,\u001b[0m \u001b[0;34mf\"exit code: {exit_code}\"\u001b[0m\u001b[0;34m,\u001b[0m \u001b[0merrors\u001b[0m\u001b[0;34m)\u001b[0m\u001b[0;34m\u001b[0m\u001b[0;34m\u001b[0m\u001b[0m\n\u001b[1;32m      4\u001b[0m       \u001b[0mself\u001b[0m\u001b[0;34m.\u001b[0m\u001b[0mexit_code\u001b[0m \u001b[0;34m=\u001b[0m \u001b[0mexit_code\u001b[0m\u001b[0;34m\u001b[0m\u001b[0;34m\u001b[0m\u001b[0m\n\u001b[1;32m      5\u001b[0m       \u001b[0;32mreturn\u001b[0m \u001b[0mself\u001b[0m\u001b[0;34m\u001b[0m\u001b[0;34m\u001b[0m\u001b[0m\n",
            "\u001b[0;31mNameError\u001b[0m: name 'ExceptionGroup' is not defined"
          ]
        }
      ]
    }
  ]
}